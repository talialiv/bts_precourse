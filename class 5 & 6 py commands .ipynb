{
 "cells": [
  {
   "cell_type": "markdown",
   "id": "40c53c67",
   "metadata": {},
   "source": [
    "## Practice in Class with Sergio"
   ]
  },
  {
   "cell_type": "markdown",
   "id": "c2f99359",
   "metadata": {},
   "source": [
    "First commands with Python on Jupyter"
   ]
  },
  {
   "cell_type": "markdown",
   "id": "98c0a5b9",
   "metadata": {},
   "source": [
    "INTRO TO STINGS"
   ]
  },
  {
   "cell_type": "code",
   "execution_count": 2,
   "id": "ba5d58e7",
   "metadata": {},
   "outputs": [],
   "source": [
    "variable_string = \"Hello\""
   ]
  },
  {
   "cell_type": "code",
   "execution_count": 3,
   "id": "e48544a2",
   "metadata": {},
   "outputs": [],
   "source": [
    "variable_int = 5"
   ]
  },
  {
   "cell_type": "code",
   "execution_count": 8,
   "id": "a893df0a",
   "metadata": {},
   "outputs": [],
   "source": [
    "# convert string into integer by writing int() and adding the string to be converted inside the parenthasis. The variable to be converted to an int must be a number wraped around \"\". Cannot convert \"a_word\" to an int."
   ]
  },
  {
   "cell_type": "code",
   "execution_count": 9,
   "id": "6bb848f6",
   "metadata": {},
   "outputs": [
    {
     "name": "stdout",
     "output_type": "stream",
     "text": [
      "2\n",
      "<class 'int'>\n"
     ]
    }
   ],
   "source": [
    "number = \"30\"\n",
    "print(len(number))\n",
    "\n",
    "casted_number = int(number)\n",
    "print(type(casted_number))"
   ]
  },
  {
   "cell_type": "code",
   "execution_count": null,
   "id": "c421b1b1",
   "metadata": {},
   "outputs": [],
   "source": [
    "# output looks the same but one is a float and one is a sting that looks like a float."
   ]
  },
  {
   "cell_type": "code",
   "execution_count": 11,
   "id": "6a4af5e5",
   "metadata": {},
   "outputs": [
    {
     "name": "stdout",
     "output_type": "stream",
     "text": [
      "<class 'float'>\n",
      "0.3333333333333333\n",
      "<class 'str'>\n",
      "0.3333333333333333\n"
     ]
    }
   ],
   "source": [
    "number = 1/3\n",
    "print(type(number))\n",
    "print(number)\n",
    "\n",
    "casted_number = str(number)\n",
    "print(type(casted_number))\n",
    "print(casted_number)\n"
   ]
  },
  {
   "cell_type": "code",
   "execution_count": 12,
   "id": "5f38badc",
   "metadata": {},
   "outputs": [
    {
     "name": "stdout",
     "output_type": "stream",
     "text": [
      "Help on method_descriptor:\n",
      "\n",
      "replace(self, old, new, count=-1, /)\n",
      "    Return a copy with all occurrences of substring old replaced by new.\n",
      "    \n",
      "      count\n",
      "        Maximum number of occurrences to replace.\n",
      "        -1 (the default value) means replace all occurrences.\n",
      "    \n",
      "    If the optional argument count is given, only the first count occurrences are\n",
      "    replaced.\n",
      "\n"
     ]
    }
   ],
   "source": [
    "help(str.replace)"
   ]
  },
  {
   "cell_type": "code",
   "execution_count": 13,
   "id": "fb785285",
   "metadata": {},
   "outputs": [],
   "source": [
    "# variable_name.replace(\"old\", \"new\")"
   ]
  },
  {
   "cell_type": "code",
   "execution_count": 16,
   "id": "6922c92e",
   "metadata": {},
   "outputs": [],
   "source": [
    "my_string = \"Barcelona Rocks!\""
   ]
  },
  {
   "cell_type": "code",
   "execution_count": 18,
   "id": "7de638fd",
   "metadata": {},
   "outputs": [
    {
     "data": {
      "text/plain": [
       "'B?rcelon? Rocks!'"
      ]
     },
     "execution_count": 18,
     "metadata": {},
     "output_type": "execute_result"
    }
   ],
   "source": [
    "my_string.replace (\"a\", \"?\")\n",
    "#if were to print my_sting now, nothing would change because the replace function musst be saved under a new variable. See below"
   ]
  },
  {
   "cell_type": "code",
   "execution_count": 20,
   "id": "afc165dc",
   "metadata": {},
   "outputs": [
    {
     "name": "stdout",
     "output_type": "stream",
     "text": [
      "B?rcelon? Rocks!\n"
     ]
    }
   ],
   "source": [
    "my_modified_string = my_string.replace (\"a\", \"?\")\n",
    "print(my_modified_string)"
   ]
  },
  {
   "cell_type": "code",
   "execution_count": null,
   "id": "bff11e01",
   "metadata": {},
   "outputs": [],
   "source": [
    "# {} is a placeolder. behind format, must specify that the placeholder should involve. If severals placeholders, need to separate the variables with comma behind format. Ex. .format('a', '2', 3)"
   ]
  },
  {
   "cell_type": "code",
   "execution_count": 24,
   "id": "60dcc4cd",
   "metadata": {},
   "outputs": [
    {
     "name": "stdout",
     "output_type": "stream",
     "text": [
      "python is cool\n"
     ]
    }
   ],
   "source": [
    "secret = '{} is cool'.format(\"python\")\n",
    "print(secret)"
   ]
  },
  {
   "cell_type": "code",
   "execution_count": 25,
   "id": "da06c77f",
   "metadata": {},
   "outputs": [
    {
     "name": "stdout",
     "output_type": "stream",
     "text": [
      "my name is Talia and I am 24 years old\n"
     ]
    }
   ],
   "source": [
    "name = \"Talia\"\n",
    "print(\"my name is {} and I am {} years old\".format(name, 24))"
   ]
  },
  {
   "cell_type": "code",
   "execution_count": 34,
   "id": "881026d7",
   "metadata": {},
   "outputs": [
    {
     "name": "stdout",
     "output_type": "stream",
     "text": [
      "my name is Talia and I am 24 years old\n"
     ]
    }
   ],
   "source": [
    "name = \"Talia\"\n",
    "print(\"my name is {1} and I am {0} years old\".format(24, name))"
   ]
  },
  {
   "cell_type": "code",
   "execution_count": 26,
   "id": "945e78b8",
   "metadata": {},
   "outputs": [],
   "source": [
    "# string_used_here_will_be_the_separator.join(variable_name containing the info that should be joined)"
   ]
  },
  {
   "cell_type": "code",
   "execution_count": 29,
   "id": "1fb66934",
   "metadata": {},
   "outputs": [
    {
     "data": {
      "text/plain": [
       "'Talia, Dorian, Matan'"
      ]
     },
     "execution_count": 29,
     "metadata": {},
     "output_type": "execute_result"
    }
   ],
   "source": [
    "lala = [\"Talia\", \"Dorian\", \"Matan\"]\n",
    "', '.join(lala)"
   ]
  },
  {
   "cell_type": "code",
   "execution_count": 30,
   "id": "c5ead89b",
   "metadata": {},
   "outputs": [],
   "source": [
    "# can also join numbers or str with + symbol"
   ]
  },
  {
   "cell_type": "code",
   "execution_count": 32,
   "id": "079f535d",
   "metadata": {},
   "outputs": [
    {
     "name": "stdout",
     "output_type": "stream",
     "text": [
      "pandas, numpy, request\n"
     ]
    }
   ],
   "source": [
    "cool_python_libs = \"pandas\" + \", \" + \"numpy\" + \", \" + \"request\"\n",
    "print(cool_python_libs)"
   ]
  },
  {
   "cell_type": "code",
   "execution_count": 35,
   "id": "f114a15a",
   "metadata": {},
   "outputs": [
    {
     "name": "stdout",
     "output_type": "stream",
     "text": [
      "2.13.47.14\n"
     ]
    }
   ],
   "source": [
    "a = 2.1\n",
    "b = 3.4\n",
    "print(str(a) + str(b) + str(a * b))"
   ]
  },
  {
   "cell_type": "code",
   "execution_count": 36,
   "id": "a570552d",
   "metadata": {},
   "outputs": [
    {
     "name": "stdout",
     "output_type": "stream",
     "text": [
      "12.64\n"
     ]
    }
   ],
   "source": [
    "print(a + b + a*b)"
   ]
  },
  {
   "cell_type": "code",
   "execution_count": 38,
   "id": "e3976e4d",
   "metadata": {},
   "outputs": [
    {
     "name": "stdout",
     "output_type": "stream",
     "text": [
      "2.1  3.4  7.14\n"
     ]
    }
   ],
   "source": [
    "print(str(a) + \" \", str(b) + \" \", str(a * b))"
   ]
  },
  {
   "cell_type": "code",
   "execution_count": 41,
   "id": "98a1d6e5",
   "metadata": {},
   "outputs": [
    {
     "name": "stdout",
     "output_type": "stream",
     "text": [
      "PYTHON HACKER\n",
      "python hacker\n",
      "Python Hacker\n"
     ]
    }
   ],
   "source": [
    "mixed_case = \"PyTHon HaCKEr\"\n",
    "print(mixed_case.upper())\n",
    "print(mixed_case.lower())\n",
    "print(mixed_case.title())"
   ]
  },
  {
   "cell_type": "code",
   "execution_count": 42,
   "id": "dbf8c6a9",
   "metadata": {},
   "outputs": [],
   "source": [
    "# .split() to separate all words in one variable into separate strings"
   ]
  },
  {
   "cell_type": "code",
   "execution_count": 44,
   "id": "f1dc23b0",
   "metadata": {},
   "outputs": [
    {
     "name": "stdout",
     "output_type": "stream",
     "text": [
      "three different words\n",
      "['three', 'different', 'words']\n"
     ]
    }
   ],
   "source": [
    "sentance = \"three different words\"\n",
    "print (sentance)\n",
    "words = sentance.split()\n",
    "print(words)\n"
   ]
  },
  {
   "cell_type": "code",
   "execution_count": 58,
   "id": "d41d794a",
   "metadata": {},
   "outputs": [
    {
     "name": "stdout",
     "output_type": "stream",
     "text": [
      "hello, hello, hello\n"
     ]
    }
   ],
   "source": [
    "new_sentance = \"hello, hello, hello\"\n",
    "new_sentance.split(\",\")\n",
    "print(new_sentance)"
   ]
  },
  {
   "cell_type": "code",
   "execution_count": 64,
   "id": "aa3deb1b",
   "metadata": {},
   "outputs": [
    {
     "name": "stdout",
     "output_type": "stream",
     "text": [
      "this looks pretty\n"
     ]
    }
   ],
   "source": [
    "ugly = \"thIS LOoks UglY\"\n",
    "pretty = ugly.lower().strip().replace(\"ugly\", \"pretty\")\n",
    "print(pretty)"
   ]
  },
  {
   "cell_type": "markdown",
   "id": "aa322e06",
   "metadata": {},
   "source": []
  },
  {
   "cell_type": "markdown",
   "id": "834a901c",
   "metadata": {},
   "source": [
    "INTRO TO NUMBERS\n"
   ]
  },
  {
   "cell_type": "code",
   "execution_count": 66,
   "id": "6092cb2b",
   "metadata": {},
   "outputs": [
    {
     "name": "stdout",
     "output_type": "stream",
     "text": [
      "value: 6, type: <class 'int'>\n"
     ]
    }
   ],
   "source": [
    "my_int = 6\n",
    "print('value: {}, type: {}'.format(my_int, type(my_int)))"
   ]
  },
  {
   "cell_type": "code",
   "execution_count": 67,
   "id": "99516e5a",
   "metadata": {},
   "outputs": [
    {
     "name": "stdout",
     "output_type": "stream",
     "text": [
      "value: 6.0, type: <class 'float'>\n"
     ]
    }
   ],
   "source": [
    "my_float = float(my_int)\n",
    "print('value: {}, type: {}'.format(my_float, type(my_float)))"
   ]
  },
  {
   "cell_type": "code",
   "execution_count": 68,
   "id": "3a9a04f4",
   "metadata": {},
   "outputs": [
    {
     "name": "stdout",
     "output_type": "stream",
     "text": [
      "1.0\n",
      "1.2\n"
     ]
    }
   ],
   "source": [
    "print(1/1)\n",
    "print(6/5)"
   ]
  },
  {
   "cell_type": "code",
   "execution_count": 70,
   "id": "c040d8d3",
   "metadata": {},
   "outputs": [
    {
     "name": "stdout",
     "output_type": "stream",
     "text": [
      "False\n",
      "0.30000000000000004\n"
     ]
    }
   ],
   "source": [
    "val = 0.1 + 0.1 + 0.1\n",
    "print(val == 0.3)\n",
    "print(val)"
   ]
  },
  {
   "cell_type": "code",
   "execution_count": null,
   "id": "460913f2",
   "metadata": {},
   "outputs": [],
   "source": [
    "# // whole part of devision. 7/5 is 1.xyz (leaves out the decimal)"
   ]
  },
  {
   "cell_type": "code",
   "execution_count": 72,
   "id": "e4c9ffdd",
   "metadata": {},
   "outputs": [
    {
     "data": {
      "text/plain": [
       "1"
      ]
     },
     "execution_count": 72,
     "metadata": {},
     "output_type": "execute_result"
    }
   ],
   "source": [
    "7//5"
   ]
  },
  {
   "cell_type": "code",
   "execution_count": null,
   "id": "171d5678",
   "metadata": {},
   "outputs": [],
   "source": [
    "# % the remainder after devision."
   ]
  },
  {
   "cell_type": "code",
   "execution_count": 74,
   "id": "254841de",
   "metadata": {},
   "outputs": [
    {
     "data": {
      "text/plain": [
       "2"
      ]
     },
     "execution_count": 74,
     "metadata": {},
     "output_type": "execute_result"
    }
   ],
   "source": [
    "7 % 5"
   ]
  },
  {
   "cell_type": "code",
   "execution_count": 76,
   "id": "883e84ef",
   "metadata": {},
   "outputs": [],
   "source": [
    "# to the power (exponential)"
   ]
  },
  {
   "cell_type": "code",
   "execution_count": 77,
   "id": "761b1987",
   "metadata": {},
   "outputs": [
    {
     "data": {
      "text/plain": [
       "8"
      ]
     },
     "execution_count": 77,
     "metadata": {},
     "output_type": "execute_result"
    }
   ],
   "source": [
    "2 ** 3"
   ]
  },
  {
   "cell_type": "code",
   "execution_count": 81,
   "id": "7b2ebeaf",
   "metadata": {},
   "outputs": [
    {
     "ename": "SyntaxError",
     "evalue": "invalid syntax (<ipython-input-81-d032735de9ba>, line 3)",
     "output_type": "error",
     "traceback": [
      "\u001b[0;36m  File \u001b[0;32m\"<ipython-input-81-d032735de9ba>\"\u001b[0;36m, line \u001b[0;32m3\u001b[0m\n\u001b[0;31m    from float = Decimal (0.1)\u001b[0m\n\u001b[0m               ^\u001b[0m\n\u001b[0;31mSyntaxError\u001b[0m\u001b[0;31m:\u001b[0m invalid syntax\n"
     ]
    }
   ],
   "source": [
    "from decimal import Decimal\n",
    "\n",
    "from float = Decimal (0.1)\n",
    "from str = Decimal ('0,1')\n",
    "print('from floeat: {}/nfrom string: {}')"
   ]
  },
  {
   "cell_type": "code",
   "execution_count": 82,
   "id": "82edf0da",
   "metadata": {},
   "outputs": [
    {
     "ename": "NameError",
     "evalue": "name 'my_decimal' is not defined",
     "output_type": "error",
     "traceback": [
      "\u001b[0;31m---------------------------------------------------------------------------\u001b[0m",
      "\u001b[0;31mNameError\u001b[0m                                 Traceback (most recent call last)",
      "\u001b[0;32m<ipython-input-82-40a1cef0795c>\u001b[0m in \u001b[0;36m<module>\u001b[0;34m\u001b[0m\n\u001b[0;32m----> 1\u001b[0;31m \u001b[0msum_of_decimals\u001b[0m \u001b[0;34m=\u001b[0m \u001b[0mmy_decimal\u001b[0m \u001b[0;34m+\u001b[0m \u001b[0mmy_decimal\u001b[0m \u001b[0;34m+\u001b[0m \u001b[0mmy_decimal\u001b[0m\u001b[0;34m\u001b[0m\u001b[0;34m\u001b[0m\u001b[0m\n\u001b[0m\u001b[1;32m      2\u001b[0m \u001b[0mprint\u001b[0m\u001b[0;34m(\u001b[0m\u001b[0msum_of_decimals\u001b[0m \u001b[0;34m==\u001b[0m \u001b[0mDecimal\u001b[0m \u001b[0;34m(\u001b[0m\u001b[0;34m'0.3'\u001b[0m\u001b[0;34m)\u001b[0m\u001b[0;34m)\u001b[0m\u001b[0;34m\u001b[0m\u001b[0;34m\u001b[0m\u001b[0m\n\u001b[1;32m      3\u001b[0m \u001b[0mprint\u001b[0m\u001b[0;34m(\u001b[0m\u001b[0msum_of_decimals\u001b[0m \u001b[0;34m==\u001b[0m \u001b[0;36m0.3\u001b[0m\u001b[0;34m)\u001b[0m\u001b[0;34m\u001b[0m\u001b[0;34m\u001b[0m\u001b[0m\n",
      "\u001b[0;31mNameError\u001b[0m: name 'my_decimal' is not defined"
     ]
    }
   ],
   "source": [
    "sum_of_decimals = my_decimal + my_decimal + my_decimal\n",
    "print(sum_of_decimals == Decimal ('0.3'))\n",
    "print(sum_of_decimals == 0.3)"
   ]
  },
  {
   "cell_type": "code",
   "execution_count": 85,
   "id": "d703f4a7",
   "metadata": {},
   "outputs": [
    {
     "name": "stdout",
     "output_type": "stream",
     "text": [
      "1234567.4568\n",
      "<class 'str'>\n"
     ]
    },
    {
     "ename": "NameError",
     "evalue": "name 'val_in_float' is not defined",
     "output_type": "error",
     "traceback": [
      "\u001b[0;31m---------------------------------------------------------------------------\u001b[0m",
      "\u001b[0;31mNameError\u001b[0m                                 Traceback (most recent call last)",
      "\u001b[0;32m<ipython-input-85-52dedf3d5770>\u001b[0m in \u001b[0;36m<module>\u001b[0;34m\u001b[0m\n\u001b[1;32m      2\u001b[0m \u001b[0mprint\u001b[0m\u001b[0;34m(\u001b[0m\u001b[0mval\u001b[0m\u001b[0;34m)\u001b[0m\u001b[0;34m\u001b[0m\u001b[0;34m\u001b[0m\u001b[0m\n\u001b[1;32m      3\u001b[0m \u001b[0mprint\u001b[0m\u001b[0;34m(\u001b[0m\u001b[0mtype\u001b[0m\u001b[0;34m(\u001b[0m\u001b[0mval\u001b[0m\u001b[0;34m)\u001b[0m\u001b[0;34m)\u001b[0m\u001b[0;34m\u001b[0m\u001b[0;34m\u001b[0m\u001b[0m\n\u001b[0;32m----> 4\u001b[0;31m \u001b[0mprint\u001b[0m\u001b[0;34m(\u001b[0m\u001b[0mval_in_float\u001b[0m\u001b[0;34m)\u001b[0m\u001b[0;34m\u001b[0m\u001b[0;34m\u001b[0m\u001b[0m\n\u001b[0m",
      "\u001b[0;31mNameError\u001b[0m: name 'val_in_float' is not defined"
     ]
    }
   ],
   "source": [
    "val = '%.4f'%(1234567.456789)\n",
    "print(val)\n",
    "print(type(val))\n",
    "val_in_float = \n",
    "print(val_in_float)\n"
   ]
  },
  {
   "cell_type": "raw",
   "id": "333f52a0",
   "metadata": {},
   "source": [
    "REVIEW NUMBERS!!\n"
   ]
  },
  {
   "cell_type": "code",
   "execution_count": null,
   "id": "6ea0f1dd",
   "metadata": {},
   "outputs": [],
   "source": []
  },
  {
   "cell_type": "markdown",
   "id": "f472ea9e",
   "metadata": {},
   "source": [
    "Conditionals"
   ]
  },
  {
   "cell_type": "code",
   "execution_count": 86,
   "id": "0cd9b3ad",
   "metadata": {},
   "outputs": [
    {
     "ename": "SyntaxError",
     "evalue": "invalid syntax (<ipython-input-86-7bfb348b462c>, line 4)",
     "output_type": "error",
     "traceback": [
      "\u001b[0;36m  File \u001b[0;32m\"<ipython-input-86-7bfb348b462c>\"\u001b[0;36m, line \u001b[0;32m4\u001b[0m\n\u001b[0;31m    print(bool(not java_is_not_cool or password and python_is_cool or empty list\u001b[0m\n\u001b[0m                                                                            ^\u001b[0m\n\u001b[0;31mSyntaxError\u001b[0m\u001b[0;31m:\u001b[0m invalid syntax\n"
     ]
    }
   ],
   "source": [
    "java_is_not_cool = True\n",
    "python_is_cool = True\n",
    "password = 1234\n",
    "print(bool(not java_is_not_cool or password and python_is_cool or empty list\n",
    "           "
   ]
  },
  {
   "cell_type": "code",
   "execution_count": 87,
   "id": "7f3ad983",
   "metadata": {},
   "outputs": [
    {
     "ename": "NameError",
     "evalue": "name 'true' is not defined",
     "output_type": "error",
     "traceback": [
      "\u001b[0;31m---------------------------------------------------------------------------\u001b[0m",
      "\u001b[0;31mNameError\u001b[0m                                 Traceback (most recent call last)",
      "\u001b[0;32m<ipython-input-87-e467b24d1cc7>\u001b[0m in \u001b[0;36m<module>\u001b[0;34m\u001b[0m\n\u001b[0;32m----> 1\u001b[0;31m \u001b[0mtrue\u001b[0m \u001b[0;32mor\u001b[0m \u001b[0mtrue\u001b[0m \u001b[0;32mand\u001b[0m \u001b[0mtrue\u001b[0m \u001b[0;32mor\u001b[0m \u001b[0mfalse\u001b[0m\u001b[0;34m\u001b[0m\u001b[0;34m\u001b[0m\u001b[0m\n\u001b[0m",
      "\u001b[0;31mNameError\u001b[0m: name 'true' is not defined"
     ]
    }
   ],
   "source": [
    "true or true and true or false = true\n",
    "true or false and false or true = true \n",
    "\n"
   ]
  },
  {
   "cell_type": "code",
   "execution_count": 88,
   "id": "aa43c0f9",
   "metadata": {},
   "outputs": [],
   "source": [
    "# if only executes when statement is TRUE\n",
    "\n"
   ]
  },
  {
   "cell_type": "code",
   "execution_count": null,
   "id": "c0e276fc",
   "metadata": {},
   "outputs": [],
   "source": [
    "print(\"hello world for the repo\")"
   ]
  }
 ],
 "metadata": {
  "kernelspec": {
   "display_name": "Python 3",
   "language": "python",
   "name": "python3"
  },
  "language_info": {
   "codemirror_mode": {
    "name": "ipython",
    "version": 3
   },
   "file_extension": ".py",
   "mimetype": "text/x-python",
   "name": "python",
   "nbconvert_exporter": "python",
   "pygments_lexer": "ipython3",
   "version": "3.8.8"
  }
 },
 "nbformat": 4,
 "nbformat_minor": 5
}
