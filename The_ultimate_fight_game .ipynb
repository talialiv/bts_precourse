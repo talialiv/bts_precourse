{
 "cells": [
  {
   "cell_type": "code",
   "execution_count": 13,
   "id": "d59ed414",
   "metadata": {},
   "outputs": [
    {
     "name": "stdout",
     "output_type": "stream",
     "text": [
      "Please enter your name: t\n",
      "t You are starting with 10 lives and 10 stamina points.\n",
      "Do you want to RUN or FIGHT?: run\n",
      "Too bad, t. You are a coward and slow!\n",
      "\n",
      "your new stamina score is: 1\n",
      "Do you want to RUN or FIGHT?: run\n",
      "t, you luck bastard. Lets see if you can do that again\n",
      "\n",
      "your new stamina score is: 2\n",
      "Do you want to RUN or FIGHT?: run\n",
      "Too bad, t. You are a coward and slow!\n",
      "\n",
      "your new stamina score is: 1\n",
      "Do you want to RUN or FIGHT?: run\n",
      "Too bad, t. You are a coward and slow!\n",
      "\n",
      "your new stamina score is: 0\n",
      "Game Over\n"
     ]
    }
   ],
   "source": [
    "#start of game \n",
    "import random\n",
    "\n",
    "name = input(\"Please enter your name: \")\n",
    "print(\"{} You are starting with 10 lives and 10 stamina points.\".format(name))\n",
    "stam = 2\n",
    "life = 4\n",
    "\n",
    "while stam > 0 and stam < 5 and life > 0:\n",
    "    command = input(\"Do you want to RUN or FIGHT?: \")\n",
    "\n",
    "    if command.lower() == \"run\":\n",
    "        win_lose = [0,1] #win = 0 and lose = 1 \n",
    "        result = random.choice(win_lose)\n",
    "        #print(\"some text {}\".format(result))\n",
    "\n",
    "        if result == 0:\n",
    "            stam += 1\n",
    "            print(\"{}, you luck bastard. Lets see if you can do that again\".format(name))\n",
    "            print(\"\")\n",
    "           \n",
    "        else: \n",
    "            stam -= 1\n",
    "            print(\"Too bad, {}. You are a coward and slow!\".format(name))\n",
    "            print(\"\")\n",
    "        print(\"your new stamina score is: {}\".format(stam))\n",
    "\n",
    "    if command.lower() == \"fight\":\n",
    "        win_lose = [0,1]\n",
    "        result = random.choice(win_lose)\n",
    "        #print(\"some text {}\".format(result))\n",
    "\n",
    "        if result == 0:\n",
    "            life += 1\n",
    "            print(\"Amazing fight {}!\".format(name))\n",
    "            print(\"\")\n",
    "        else: \n",
    "            life -= 1\n",
    "            print(\"ouch, that hurt looser!\")\n",
    "            print(\"\")\n",
    "        print(\"your new life score is: {}\".format(life))\n",
    "\n",
    "if stam == 5:\n",
    "    print(\"You win the Game\")\n",
    "elif life == 5:\n",
    "    print(\"You win the Game\")\n",
    "else:\n",
    "    print(\"Game Over\")"
   ]
  },
  {
   "cell_type": "code",
   "execution_count": null,
   "id": "eeb8013f",
   "metadata": {},
   "outputs": [],
   "source": []
  }
 ],
 "metadata": {
  "kernelspec": {
   "display_name": "Python 3",
   "language": "python",
   "name": "python3"
  },
  "language_info": {
   "codemirror_mode": {
    "name": "ipython",
    "version": 3
   },
   "file_extension": ".py",
   "mimetype": "text/x-python",
   "name": "python",
   "nbconvert_exporter": "python",
   "pygments_lexer": "ipython3",
   "version": "3.8.8"
  }
 },
 "nbformat": 4,
 "nbformat_minor": 5
}
