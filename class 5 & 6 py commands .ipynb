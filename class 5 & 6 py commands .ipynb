{
 "cells": [
  {
   "cell_type": "markdown",
   "id": "40c53c67",
   "metadata": {},
   "source": [
    "## Practice in Class with Sergio"
   ]
  },
  {
   "cell_type": "markdown",
   "id": "c2f99359",
   "metadata": {},
   "source": [
    "First commands with Python on Jupyter"
   ]
  },
  {
   "cell_type": "markdown",
   "id": "98c0a5b9",
   "metadata": {},
   "source": [
    "INTRO TO STINGS"
   ]
  },
  {
   "cell_type": "code",
   "execution_count": 2,
   "id": "ba5d58e7",
   "metadata": {},
   "outputs": [],
   "source": [
    "variable_string = \"Hello\""
   ]
  },
  {
   "cell_type": "code",
   "execution_count": 3,
   "id": "e48544a2",
   "metadata": {},
   "outputs": [],
   "source": [
    "variable_int = 5"
   ]
  },
  {
   "cell_type": "code",
   "execution_count": 8,
   "id": "a893df0a",
   "metadata": {},
   "outputs": [],
   "source": [
    "# convert string into integer by writing int() and adding the string to be converted inside the parenthasis. The variable to be converted to an int must be a number wraped around \"\". Cannot convert \"a_word\" to an int."
   ]
  },
  {
   "cell_type": "code",
   "execution_count": 9,
   "id": "6bb848f6",
   "metadata": {},
   "outputs": [
    {
     "name": "stdout",
     "output_type": "stream",
     "text": [
      "2\n",
      "<class 'int'>\n"
     ]
    }
   ],
   "source": [
    "number = \"30\"\n",
    "print(len(number))\n",
    "\n",
    "casted_number = int(number)\n",
    "print(type(casted_number))"
   ]
  },
  {
   "cell_type": "code",
   "execution_count": null,
   "id": "c421b1b1",
   "metadata": {},
   "outputs": [],
   "source": [
    "# output looks the same but one is a float and one is a sting that looks like a float."
   ]
  },
  {
   "cell_type": "code",
   "execution_count": 11,
   "id": "6a4af5e5",
   "metadata": {},
   "outputs": [
    {
     "name": "stdout",
     "output_type": "stream",
     "text": [
      "<class 'float'>\n",
      "0.3333333333333333\n",
      "<class 'str'>\n",
      "0.3333333333333333\n"
     ]
    }
   ],
   "source": [
    "number = 1/3\n",
    "print(type(number))\n",
    "print(number)\n",
    "\n",
    "casted_number = str(number)\n",
    "print(type(casted_number))\n",
    "print(casted_number)\n"
   ]
  },
  {
   "cell_type": "code",
   "execution_count": 12,
   "id": "5f38badc",
   "metadata": {},
   "outputs": [
    {
     "name": "stdout",
     "output_type": "stream",
     "text": [
      "Help on method_descriptor:\n",
      "\n",
      "replace(self, old, new, count=-1, /)\n",
      "    Return a copy with all occurrences of substring old replaced by new.\n",
      "    \n",
      "      count\n",
      "        Maximum number of occurrences to replace.\n",
      "        -1 (the default value) means replace all occurrences.\n",
      "    \n",
      "    If the optional argument count is given, only the first count occurrences are\n",
      "    replaced.\n",
      "\n"
     ]
    }
   ],
   "source": [
    "help(str.replace)"
   ]
  },
  {
   "cell_type": "code",
   "execution_count": 13,
   "id": "fb785285",
   "metadata": {},
   "outputs": [],
   "source": [
    "# variable_name.replace(\"old\", \"new\")"
   ]
  },
  {
   "cell_type": "code",
   "execution_count": 16,
   "id": "6922c92e",
   "metadata": {},
   "outputs": [],
   "source": [
    "my_string = \"Barcelona Rocks!\""
   ]
  },
  {
   "cell_type": "code",
   "execution_count": 18,
   "id": "7de638fd",
   "metadata": {},
   "outputs": [
    {
     "data": {
      "text/plain": [
       "'B?rcelon? Rocks!'"
      ]
     },
     "execution_count": 18,
     "metadata": {},
     "output_type": "execute_result"
    }
   ],
   "source": [
    "my_string.replace (\"a\", \"?\")\n",
    "#if were to print my_sting now, nothing would change because the replace function musst be saved under a new variable. See below"
   ]
  },
  {
   "cell_type": "code",
   "execution_count": 20,
   "id": "afc165dc",
   "metadata": {},
   "outputs": [
    {
     "name": "stdout",
     "output_type": "stream",
     "text": [
      "B?rcelon? Rocks!\n"
     ]
    }
   ],
   "source": [
    "my_modified_string = my_string.replace (\"a\", \"?\")\n",
    "print(my_modified_string)"
   ]
  },
  {
   "cell_type": "code",
   "execution_count": null,
   "id": "bff11e01",
   "metadata": {},
   "outputs": [],
   "source": [
    "# {} is a placeolder. behind format, must specify that the placeholder should involve. If severals placeholders, need to separate the variables with comma behind format. Ex. .format('a', '2', 3)"
   ]
  },
  {
   "cell_type": "code",
   "execution_count": 24,
   "id": "60dcc4cd",
   "metadata": {},
   "outputs": [
    {
     "name": "stdout",
     "output_type": "stream",
     "text": [
      "python is cool\n"
     ]
    }
   ],
   "source": [
    "secret = '{} is cool'.format(\"python\")\n",
    "print(secret)"
   ]
  },
  {
   "cell_type": "code",
   "execution_count": 25,
   "id": "da06c77f",
   "metadata": {},
   "outputs": [
    {
     "name": "stdout",
     "output_type": "stream",
     "text": [
      "my name is Talia and I am 24 years old\n"
     ]
    }
   ],
   "source": [
    "name = \"Talia\"\n",
    "print(\"my name is {} and I am {} years old\".format(name, 24))"
   ]
  },
  {
   "cell_type": "code",
   "execution_count": 34,
   "id": "881026d7",
   "metadata": {},
   "outputs": [
    {
     "name": "stdout",
     "output_type": "stream",
     "text": [
      "my name is Talia and I am 24 years old\n"
     ]
    }
   ],
   "source": [
    "name = \"Talia\"\n",
    "print(\"my name is {1} and I am {0} years old\".format(24, name))"
   ]
  },
  {
   "cell_type": "code",
   "execution_count": 26,
   "id": "945e78b8",
   "metadata": {},
   "outputs": [],
   "source": [
    "# string_used_here_will_be_the_separator.join(variable_name containing the info that should be joined)"
   ]
  },
  {
   "cell_type": "code",
   "execution_count": 29,
   "id": "1fb66934",
   "metadata": {},
   "outputs": [
    {
     "data": {
      "text/plain": [
       "'Talia, Dorian, Matan'"
      ]
     },
     "execution_count": 29,
     "metadata": {},
     "output_type": "execute_result"
    }
   ],
   "source": [
    "lala = [\"Talia\", \"Dorian\", \"Matan\"]\n",
    "', '.join(lala)"
   ]
  },
  {
   "cell_type": "code",
   "execution_count": 30,
   "id": "c5ead89b",
   "metadata": {},
   "outputs": [],
   "source": [
    "# can also join numbers or str with + symbol"
   ]
  },
  {
   "cell_type": "code",
   "execution_count": 32,
   "id": "079f535d",
   "metadata": {},
   "outputs": [
    {
     "name": "stdout",
     "output_type": "stream",
     "text": [
      "pandas, numpy, request\n"
     ]
    }
   ],
   "source": [
    "cool_python_libs = \"pandas\" + \", \" + \"numpy\" + \", \" + \"request\"\n",
    "print(cool_python_libs)"
   ]
  },
  {
   "cell_type": "code",
   "execution_count": 35,
   "id": "f114a15a",
   "metadata": {},
   "outputs": [
    {
     "name": "stdout",
     "output_type": "stream",
     "text": [
      "2.13.47.14\n"
     ]
    }
   ],
   "source": [
    "a = 2.1\n",
    "b = 3.4\n",
    "print(str(a) + str(b) + str(a * b))"
   ]
  },
  {
   "cell_type": "code",
   "execution_count": 36,
   "id": "a570552d",
   "metadata": {},
   "outputs": [
    {
     "name": "stdout",
     "output_type": "stream",
     "text": [
      "12.64\n"
     ]
    }
   ],
   "source": [
    "print(a + b + a*b)"
   ]
  },
  {
   "cell_type": "code",
   "execution_count": 38,
   "id": "e3976e4d",
   "metadata": {},
   "outputs": [
    {
     "name": "stdout",
     "output_type": "stream",
     "text": [
      "2.1  3.4  7.14\n"
     ]
    }
   ],
   "source": [
    "print(str(a) + \" \", str(b) + \" \", str(a * b))"
   ]
  },
  {
   "cell_type": "code",
   "execution_count": 41,
   "id": "98a1d6e5",
   "metadata": {},
   "outputs": [
    {
     "name": "stdout",
     "output_type": "stream",
     "text": [
      "PYTHON HACKER\n",
      "python hacker\n",
      "Python Hacker\n"
     ]
    }
   ],
   "source": [
    "mixed_case = \"PyTHon HaCKEr\"\n",
    "print(mixed_case.upper())\n",
    "print(mixed_case.lower())\n",
    "print(mixed_case.title())"
   ]
  },
  {
   "cell_type": "code",
   "execution_count": 42,
   "id": "dbf8c6a9",
   "metadata": {},
   "outputs": [],
   "source": [
    "# .split() to separate all words in one variable into separate strings"
   ]
  },
  {
   "cell_type": "code",
   "execution_count": 44,
   "id": "f1dc23b0",
   "metadata": {},
   "outputs": [
    {
     "name": "stdout",
     "output_type": "stream",
     "text": [
      "three different words\n",
      "['three', 'different', 'words']\n"
     ]
    }
   ],
   "source": [
    "sentance = \"three different words\"\n",
    "print (sentance)\n",
    "words = sentance.split()\n",
    "print(words)\n"
   ]
  },
  {
   "cell_type": "code",
   "execution_count": 58,
   "id": "d41d794a",
   "metadata": {},
   "outputs": [
    {
     "name": "stdout",
     "output_type": "stream",
     "text": [
      "hello, hello, hello\n"
     ]
    }
   ],
   "source": [
    "new_sentance = \"hello, hello, hello\"\n",
    "new_sentance.split(\",\")\n",
    "print(new_sentance)"
   ]
  },
  {
   "cell_type": "code",
   "execution_count": 64,
   "id": "aa3deb1b",
   "metadata": {},
   "outputs": [
    {
     "name": "stdout",
     "output_type": "stream",
     "text": [
      "this looks pretty\n"
     ]
    }
   ],
   "source": [
    "ugly = \"thIS LOoks UglY\"\n",
    "pretty = ugly.lower().strip().replace(\"ugly\", \"pretty\")\n",
    "print(pretty)"
   ]
  },
  {
   "cell_type": "markdown",
   "id": "aa322e06",
   "metadata": {},
   "source": []
  },
  {
   "cell_type": "markdown",
   "id": "834a901c",
   "metadata": {},
   "source": [
    "INTRO TO NUMBERS\n"
   ]
  },
  {
   "cell_type": "code",
   "execution_count": 66,
   "id": "6092cb2b",
   "metadata": {},
   "outputs": [
    {
     "name": "stdout",
     "output_type": "stream",
     "text": [
      "value: 6, type: <class 'int'>\n"
     ]
    }
   ],
   "source": [
    "my_int = 6\n",
    "print('value: {}, type: {}'.format(my_int, type(my_int)))"
   ]
  },
  {
   "cell_type": "code",
   "execution_count": 67,
   "id": "99516e5a",
   "metadata": {},
   "outputs": [
    {
     "name": "stdout",
     "output_type": "stream",
     "text": [
      "value: 6.0, type: <class 'float'>\n"
     ]
    }
   ],
   "source": [
    "my_float = float(my_int)\n",
    "print('value: {}, type: {}'.format(my_float, type(my_float)))"
   ]
  },
  {
   "cell_type": "code",
   "execution_count": 68,
   "id": "3a9a04f4",
   "metadata": {},
   "outputs": [
    {
     "name": "stdout",
     "output_type": "stream",
     "text": [
      "1.0\n",
      "1.2\n"
     ]
    }
   ],
   "source": [
    "print(1/1)\n",
    "print(6/5)"
   ]
  },
  {
   "cell_type": "code",
   "execution_count": 70,
   "id": "c040d8d3",
   "metadata": {},
   "outputs": [
    {
     "name": "stdout",
     "output_type": "stream",
     "text": [
      "False\n",
      "0.30000000000000004\n"
     ]
    }
   ],
   "source": [
    "val = 0.1 + 0.1 + 0.1\n",
    "print(val == 0.3)\n",
    "print(val)"
   ]
  },
  {
   "cell_type": "code",
   "execution_count": null,
   "id": "460913f2",
   "metadata": {},
   "outputs": [],
   "source": [
    "# // whole part of devision. 7/5 is 1.xyz (leaves out the decimal)"
   ]
  },
  {
   "cell_type": "code",
   "execution_count": 72,
   "id": "e4c9ffdd",
   "metadata": {},
   "outputs": [
    {
     "data": {
      "text/plain": [
       "1"
      ]
     },
     "execution_count": 72,
     "metadata": {},
     "output_type": "execute_result"
    }
   ],
   "source": [
    "7//5"
   ]
  },
  {
   "cell_type": "code",
   "execution_count": null,
   "id": "171d5678",
   "metadata": {},
   "outputs": [],
   "source": [
    "# % the remainder after devision."
   ]
  },
  {
   "cell_type": "code",
   "execution_count": 74,
   "id": "254841de",
   "metadata": {},
   "outputs": [
    {
     "data": {
      "text/plain": [
       "2"
      ]
     },
     "execution_count": 74,
     "metadata": {},
     "output_type": "execute_result"
    }
   ],
   "source": [
    "7 % 5"
   ]
  },
  {
   "cell_type": "code",
   "execution_count": 76,
   "id": "883e84ef",
   "metadata": {},
   "outputs": [],
   "source": [
    "# to the power (exponential)"
   ]
  },
  {
   "cell_type": "code",
   "execution_count": 77,
   "id": "761b1987",
   "metadata": {},
   "outputs": [
    {
     "data": {
      "text/plain": [
       "8"
      ]
     },
     "execution_count": 77,
     "metadata": {},
     "output_type": "execute_result"
    }
   ],
   "source": [
    "2 ** 3"
   ]
  },
  {
   "cell_type": "code",
   "execution_count": 81,
   "id": "7b2ebeaf",
   "metadata": {},
   "outputs": [
    {
     "ename": "SyntaxError",
     "evalue": "invalid syntax (<ipython-input-81-d032735de9ba>, line 3)",
     "output_type": "error",
     "traceback": [
      "\u001b[0;36m  File \u001b[0;32m\"<ipython-input-81-d032735de9ba>\"\u001b[0;36m, line \u001b[0;32m3\u001b[0m\n\u001b[0;31m    from float = Decimal (0.1)\u001b[0m\n\u001b[0m               ^\u001b[0m\n\u001b[0;31mSyntaxError\u001b[0m\u001b[0;31m:\u001b[0m invalid syntax\n"
     ]
    }
   ],
   "source": [
    "from decimal import Decimal\n",
    "\n",
    "from float = Decimal (0.1)\n",
    "from str = Decimal ('0,1')\n",
    "print('from floeat: {}/nfrom string: {}')"
   ]
  },
  {
   "cell_type": "code",
   "execution_count": 82,
   "id": "82edf0da",
   "metadata": {},
   "outputs": [
    {
     "ename": "NameError",
     "evalue": "name 'my_decimal' is not defined",
     "output_type": "error",
     "traceback": [
      "\u001b[0;31m---------------------------------------------------------------------------\u001b[0m",
      "\u001b[0;31mNameError\u001b[0m                                 Traceback (most recent call last)",
      "\u001b[0;32m<ipython-input-82-40a1cef0795c>\u001b[0m in \u001b[0;36m<module>\u001b[0;34m\u001b[0m\n\u001b[0;32m----> 1\u001b[0;31m \u001b[0msum_of_decimals\u001b[0m \u001b[0;34m=\u001b[0m \u001b[0mmy_decimal\u001b[0m \u001b[0;34m+\u001b[0m \u001b[0mmy_decimal\u001b[0m \u001b[0;34m+\u001b[0m \u001b[0mmy_decimal\u001b[0m\u001b[0;34m\u001b[0m\u001b[0;34m\u001b[0m\u001b[0m\n\u001b[0m\u001b[1;32m      2\u001b[0m \u001b[0mprint\u001b[0m\u001b[0;34m(\u001b[0m\u001b[0msum_of_decimals\u001b[0m \u001b[0;34m==\u001b[0m \u001b[0mDecimal\u001b[0m \u001b[0;34m(\u001b[0m\u001b[0;34m'0.3'\u001b[0m\u001b[0;34m)\u001b[0m\u001b[0;34m)\u001b[0m\u001b[0;34m\u001b[0m\u001b[0;34m\u001b[0m\u001b[0m\n\u001b[1;32m      3\u001b[0m \u001b[0mprint\u001b[0m\u001b[0;34m(\u001b[0m\u001b[0msum_of_decimals\u001b[0m \u001b[0;34m==\u001b[0m \u001b[0;36m0.3\u001b[0m\u001b[0;34m)\u001b[0m\u001b[0;34m\u001b[0m\u001b[0;34m\u001b[0m\u001b[0m\n",
      "\u001b[0;31mNameError\u001b[0m: name 'my_decimal' is not defined"
     ]
    }
   ],
   "source": [
    "sum_of_decimals = my_decimal + my_decimal + my_decimal\n",
    "print(sum_of_decimals == Decimal ('0.3'))\n",
    "print(sum_of_decimals == 0.3)"
   ]
  },
  {
   "cell_type": "code",
   "execution_count": 85,
   "id": "d703f4a7",
   "metadata": {},
   "outputs": [
    {
     "name": "stdout",
     "output_type": "stream",
     "text": [
      "1234567.4568\n",
      "<class 'str'>\n"
     ]
    },
    {
     "ename": "NameError",
     "evalue": "name 'val_in_float' is not defined",
     "output_type": "error",
     "traceback": [
      "\u001b[0;31m---------------------------------------------------------------------------\u001b[0m",
      "\u001b[0;31mNameError\u001b[0m                                 Traceback (most recent call last)",
      "\u001b[0;32m<ipython-input-85-52dedf3d5770>\u001b[0m in \u001b[0;36m<module>\u001b[0;34m\u001b[0m\n\u001b[1;32m      2\u001b[0m \u001b[0mprint\u001b[0m\u001b[0;34m(\u001b[0m\u001b[0mval\u001b[0m\u001b[0;34m)\u001b[0m\u001b[0;34m\u001b[0m\u001b[0;34m\u001b[0m\u001b[0m\n\u001b[1;32m      3\u001b[0m \u001b[0mprint\u001b[0m\u001b[0;34m(\u001b[0m\u001b[0mtype\u001b[0m\u001b[0;34m(\u001b[0m\u001b[0mval\u001b[0m\u001b[0;34m)\u001b[0m\u001b[0;34m)\u001b[0m\u001b[0;34m\u001b[0m\u001b[0;34m\u001b[0m\u001b[0m\n\u001b[0;32m----> 4\u001b[0;31m \u001b[0mprint\u001b[0m\u001b[0;34m(\u001b[0m\u001b[0mval_in_float\u001b[0m\u001b[0;34m)\u001b[0m\u001b[0;34m\u001b[0m\u001b[0;34m\u001b[0m\u001b[0m\n\u001b[0m",
      "\u001b[0;31mNameError\u001b[0m: name 'val_in_float' is not defined"
     ]
    }
   ],
   "source": [
    "val = '%.4f'%(1234567.456789)\n",
    "print(val)\n",
    "print(type(val))\n",
    "val_in_float = \n",
    "print(val_in_float)\n"
   ]
  },
  {
   "cell_type": "raw",
   "id": "333f52a0",
   "metadata": {},
   "source": [
    "REVIEW NUMBERS!!\n"
   ]
  },
  {
   "cell_type": "code",
   "execution_count": null,
   "id": "6ea0f1dd",
   "metadata": {},
   "outputs": [],
   "source": []
  },
  {
   "cell_type": "markdown",
   "id": "f472ea9e",
   "metadata": {},
   "source": [
    "Conditionals"
   ]
  },
  {
   "cell_type": "code",
   "execution_count": 86,
   "id": "0cd9b3ad",
   "metadata": {},
   "outputs": [
    {
     "ename": "SyntaxError",
     "evalue": "invalid syntax (<ipython-input-86-7bfb348b462c>, line 4)",
     "output_type": "error",
     "traceback": [
      "\u001b[0;36m  File \u001b[0;32m\"<ipython-input-86-7bfb348b462c>\"\u001b[0;36m, line \u001b[0;32m4\u001b[0m\n\u001b[0;31m    print(bool(not java_is_not_cool or password and python_is_cool or empty list\u001b[0m\n\u001b[0m                                                                            ^\u001b[0m\n\u001b[0;31mSyntaxError\u001b[0m\u001b[0;31m:\u001b[0m invalid syntax\n"
     ]
    }
   ],
   "source": [
    "java_is_not_cool = True\n",
    "python_is_cool = True\n",
    "password = 1234\n",
    "print(bool(not java_is_not_cool or password and python_is_cool or empty list\n",
    "           "
   ]
  },
  {
   "cell_type": "code",
   "execution_count": 87,
   "id": "7f3ad983",
   "metadata": {
    "collapsed": true
   },
   "outputs": [
    {
     "ename": "NameError",
     "evalue": "name 'true' is not defined",
     "output_type": "error",
     "traceback": [
      "\u001b[0;31m---------------------------------------------------------------------------\u001b[0m",
      "\u001b[0;31mNameError\u001b[0m                                 Traceback (most recent call last)",
      "\u001b[0;32m<ipython-input-87-e467b24d1cc7>\u001b[0m in \u001b[0;36m<module>\u001b[0;34m\u001b[0m\n\u001b[0;32m----> 1\u001b[0;31m \u001b[0mtrue\u001b[0m \u001b[0;32mor\u001b[0m \u001b[0mtrue\u001b[0m \u001b[0;32mand\u001b[0m \u001b[0mtrue\u001b[0m \u001b[0;32mor\u001b[0m \u001b[0mfalse\u001b[0m\u001b[0;34m\u001b[0m\u001b[0;34m\u001b[0m\u001b[0m\n\u001b[0m",
      "\u001b[0;31mNameError\u001b[0m: name 'true' is not defined"
     ]
    }
   ],
   "source": [
    "true or true and true or false = true\n",
    "true or false and false or true = true \n",
    "\n"
   ]
  },
  {
   "cell_type": "code",
   "execution_count": 88,
   "id": "aa43c0f9",
   "metadata": {},
   "outputs": [],
   "source": [
    "# if only executes when statement is TRUE\n",
    "\n"
   ]
  },
  {
   "cell_type": "code",
   "execution_count": null,
   "id": "c0e276fc",
   "metadata": {},
   "outputs": [],
   "source": [
    "print(\"hello world for the repo\")"
   ]
  },
  {
   "cell_type": "markdown",
   "id": "a86bb4ad",
   "metadata": {},
   "source": [
    "FOR LOOPS"
   ]
  },
  {
   "cell_type": "code",
   "execution_count": 4,
   "id": "202118dc",
   "metadata": {},
   "outputs": [
    {
     "name": "stdout",
     "output_type": "stream",
     "text": [
      "1\n",
      "2\n",
      "3\n",
      "4\n",
      "python\n",
      "is\n",
      "neat\n",
      "I am done\n"
     ]
    }
   ],
   "source": [
    "my_list = [1, 2, 3,4 , \"python\", \"is\", \"neat\"]\n",
    "for item in my_list:\n",
    "    print(item)\n",
    "    \n",
    "print(\"I am done\")"
   ]
  },
  {
   "cell_type": "code",
   "execution_count": 5,
   "id": "367b9f60",
   "metadata": {},
   "outputs": [],
   "source": [
    "# we are creating the value item. First item = 1. once thats done, back to beginning. item = 2. once done with all itterations it will end by itself. "
   ]
  },
  {
   "cell_type": "code",
   "execution_count": 8,
   "id": "0c09aac4",
   "metadata": {},
   "outputs": [
    {
     "name": "stdout",
     "output_type": "stream",
     "text": [
      "0\n",
      "0\n",
      "0\n",
      "0\n"
     ]
    }
   ],
   "source": [
    "second_list = [1, 2, 3, 4]\n",
    "big_sum= 0\n",
    "for each_item in second_list:\n",
    "    print(big_sum =+)"
   ]
  },
  {
   "cell_type": "code",
   "execution_count": 9,
   "id": "c35e7daa",
   "metadata": {},
   "outputs": [],
   "source": [
    "# break stops the loop. A way to get out of the loop. break needs to be indented"
   ]
  },
  {
   "cell_type": "code",
   "execution_count": 13,
   "id": "9157ec11",
   "metadata": {},
   "outputs": [
    {
     "name": "stdout",
     "output_type": "stream",
     "text": [
      "1\n",
      "2\n",
      "1\n",
      "3\n",
      "4\n"
     ]
    }
   ],
   "source": [
    "my_list = [1, 2, 1, 3,4 , \"python\", \"is\", \"neat\"]\n",
    "for item in my_list:\n",
    "    if item == \"python\":\n",
    "        break\n",
    "    print(item)\n",
    "    "
   ]
  },
  {
   "cell_type": "code",
   "execution_count": 15,
   "id": "0598d7b6",
   "metadata": {},
   "outputs": [
    {
     "name": "stdout",
     "output_type": "stream",
     "text": [
      "2\n",
      "3\n",
      "4\n",
      "is\n",
      "neat\n",
      "\n"
     ]
    }
   ],
   "source": [
    "for item in my_list:\n",
    "    if item == 1 or item == \"python\":\n",
    "        continue \n",
    "    print(item)\n",
    "    \n",
    "print(\"\")"
   ]
  },
  {
   "cell_type": "code",
   "execution_count": 16,
   "id": "c8441b77",
   "metadata": {},
   "outputs": [],
   "source": [
    "# continue = skip item "
   ]
  },
  {
   "cell_type": "code",
   "execution_count": 19,
   "id": "a7901144",
   "metadata": {},
   "outputs": [
    {
     "ename": "IndentationError",
     "evalue": "expected an indented block (<ipython-input-19-d235a494feef>, line 6)",
     "output_type": "error",
     "traceback": [
      "\u001b[0;36m  File \u001b[0;32m\"<ipython-input-19-d235a494feef>\"\u001b[0;36m, line \u001b[0;32m6\u001b[0m\n\u001b[0;31m    continue\u001b[0m\n\u001b[0m    ^\u001b[0m\n\u001b[0;31mIndentationError\u001b[0m\u001b[0;31m:\u001b[0m expected an indented block\n"
     ]
    }
   ],
   "source": [
    "variable = \"test\"\n",
    "type(variable)\n",
    "\n",
    "for item in my_list:\n",
    "    if isinstance(varibale, str)\n",
    "    continue\n",
    "print(item)"
   ]
  },
  {
   "cell_type": "code",
   "execution_count": 20,
   "id": "2827972c",
   "metadata": {},
   "outputs": [],
   "source": [
    "# is instance(variable, type)"
   ]
  },
  {
   "cell_type": "code",
   "execution_count": 21,
   "id": "9502333a",
   "metadata": {},
   "outputs": [
    {
     "data": {
      "text/plain": [
       "<enumerate at 0x7fd118cfc200>"
      ]
     },
     "execution_count": 21,
     "metadata": {},
     "output_type": "execute_result"
    }
   ],
   "source": [
    "enumerate(my_list)"
   ]
  },
  {
   "cell_type": "code",
   "execution_count": 24,
   "id": "c44a8bc9",
   "metadata": {},
   "outputs": [
    {
     "name": "stdout",
     "output_type": "stream",
     "text": [
      "indey: 0, value: 1\n",
      "indey: 1, value: 2\n",
      "indey: 2, value: 1\n",
      "indey: 3, value: 3\n",
      "indey: 4, value: 4\n",
      "indey: 5, value: python\n",
      "indey: 6, value: is\n",
      "indey: 7, value: neat\n"
     ]
    }
   ],
   "source": [
    "for i, val in enumerate(my_list):\n",
    "    print('indey: {}, value: {}'.format(i, val))"
   ]
  },
  {
   "cell_type": "code",
   "execution_count": 23,
   "id": "1bf01a07",
   "metadata": {},
   "outputs": [],
   "source": [
    "# enumerate output is index and value of each element in a list"
   ]
  },
  {
   "cell_type": "code",
   "execution_count": 25,
   "id": "d04eea5b",
   "metadata": {},
   "outputs": [
    {
     "name": "stdout",
     "output_type": "stream",
     "text": [
      "index: 0, value: 4\n",
      "index: 1, value: 5\n",
      "index: 2, value: 7\n",
      "index: 3, value: 8\n",
      "[0, 9, 12, 15]\n"
     ]
    }
   ],
   "source": [
    "ex_list = [4, 5, 7, 8]\n",
    "result = []\n",
    "for index, value in enumerate(ex_list):\n",
    "    print('index: {}, value: {}'.format(index, value))\n",
    "    if index == 0:\n",
    "        result.append(0)\n",
    "        continue\n",
    "    result.append(ex_list[index-1]+value)\n",
    "print(result)\n",
    "        "
   ]
  },
  {
   "cell_type": "code",
   "execution_count": 26,
   "id": "2f4100c3",
   "metadata": {},
   "outputs": [],
   "source": [
    "# Dictionaries = Key : Value"
   ]
  },
  {
   "cell_type": "code",
   "execution_count": 27,
   "id": "930b267e",
   "metadata": {},
   "outputs": [],
   "source": [
    "# range(von, bis, steps)\n",
    "range()"
   ]
  },
  {
   "cell_type": "code",
   "execution_count": 31,
   "id": "5743612d",
   "metadata": {},
   "outputs": [
    {
     "name": "stdout",
     "output_type": "stream",
     "text": [
      "0 5\n",
      "1 15\n",
      "2 25\n",
      "3 35\n",
      "4 45\n",
      "5 55\n",
      "6 65\n",
      "7 75\n",
      "8 85\n",
      "9 95\n"
     ]
    }
   ],
   "source": [
    "for index, value in enumerate(range(5,100, 10)):\n",
    "    print(index, value)"
   ]
  },
  {
   "cell_type": "code",
   "execution_count": 32,
   "id": "1eab0008",
   "metadata": {},
   "outputs": [],
   "source": [
    "# WHILE LOOOPS\n"
   ]
  },
  {
   "cell_type": "code",
   "execution_count": 35,
   "id": "4d1908d9",
   "metadata": {},
   "outputs": [
    {
     "name": "stdout",
     "output_type": "stream",
     "text": [
      "john\n",
      "is\n",
      "this\n"
     ]
    }
   ],
   "source": [
    "data = \"this\", \"is\", \"john\"\n",
    "i = len(data) -1\n",
    "while i>=0:\n",
    "    print(data[i])\n",
    "    i -= 1"
   ]
  },
  {
   "cell_type": "code",
   "execution_count": 36,
   "id": "dccc2a98",
   "metadata": {},
   "outputs": [
    {
     "name": "stdout",
     "output_type": "stream",
     "text": [
      "john\n",
      "is\n",
      "this\n"
     ]
    }
   ],
   "source": [
    "for item in reversed(data):\n",
    "    print(item)"
   ]
  },
  {
   "cell_type": "code",
   "execution_count": 37,
   "id": "f9b098f2",
   "metadata": {},
   "outputs": [],
   "source": [
    "# zip (compress each of the elements to the minimum)"
   ]
  },
  {
   "cell_type": "code",
   "execution_count": 38,
   "id": "865d5a85",
   "metadata": {},
   "outputs": [
    {
     "name": "stdout",
     "output_type": "stream",
     "text": [
      "a 3 true\n",
      "b 4 okay\n",
      "c 5 maybe\n"
     ]
    }
   ],
   "source": [
    "collection1 = [\"a\", \"b\", \"c\"]\n",
    "collection2 = [3, 4, 5, 5, 5]\n",
    "collection3 = [\"true\", \"okay\", \"maybe\", \"next\"]\n",
    "\n",
    "for first, second, third in zip(collection1, collection2, collection3):\n",
    "    print(first, second, third)"
   ]
  },
  {
   "cell_type": "code",
   "execution_count": null,
   "id": "a685a20e",
   "metadata": {},
   "outputs": [],
   "source": [
    "# Class exercise Level 1"
   ]
  },
  {
   "cell_type": "code",
   "execution_count": 57,
   "id": "718e7357",
   "metadata": {},
   "outputs": [
    {
     "name": "stdout",
     "output_type": "stream",
     "text": [
      "[2002, 2009, 2016, 2023, 2037, 2044, 2051, 2058, 2072, 2079, 2086, 2093, 2107, 2114, 2121, 2128, 2142, 2149, 2156, 2163, 2177, 2184, 2191, 2198, 2212, 2219, 2226, 2233, 2247, 2254, 2261, 2268, 2282, 2289, 2296, 2303, 2317, 2324, 2331, 2338, 2352, 2359, 2366, 2373, 2387, 2394, 2401, 2408, 2422, 2429, 2436, 2443, 2457, 2464, 2471, 2478, 2492, 2499, 2506, 2513, 2527, 2534, 2541, 2548, 2562, 2569, 2576, 2583, 2597, 2604, 2611, 2618, 2632, 2639, 2646, 2653, 2667, 2674, 2681, 2688, 2702, 2709, 2716, 2723, 2737, 2744, 2751, 2758, 2772, 2779, 2786, 2793, 2807, 2814, 2821, 2828, 2842, 2849, 2856, 2863, 2877, 2884, 2891, 2898, 2912, 2919, 2926, 2933, 2947, 2954, 2961, 2968, 2982, 2989, 2996, 3003, 3017, 3024, 3031, 3038, 3052, 3059, 3066, 3073, 3087, 3094, 3101, 3108, 3122, 3129, 3136, 3143, 3157, 3164, 3171, 3178, 3192, 3199]\n"
     ]
    }
   ],
   "source": [
    "numbers = range(2000, 3200)\n",
    "solution = []\n",
    "for i in numbers:\n",
    "    if i % 7 == 0 and i % 5 != 0:\n",
    "        solution.append(i)\n",
    "print(solution)\n",
    "\n"
   ]
  },
  {
   "cell_type": "code",
   "execution_count": null,
   "id": "e22147c6",
   "metadata": {},
   "outputs": [],
   "source": [
    "# exercise two "
   ]
  },
  {
   "cell_type": "code",
   "execution_count": 91,
   "id": "3414003e",
   "metadata": {},
   "outputs": [
    {
     "name": "stdout",
     "output_type": "stream",
     "text": [
      "\n",
      "*\n",
      "**\n",
      "***\n",
      "****\n",
      "*****\n",
      "******\n",
      "*******\n",
      "********\n",
      "*********\n",
      "********\n",
      "*******\n",
      "******\n",
      "*****\n",
      "****\n",
      "***\n",
      "**\n",
      "*\n"
     ]
    }
   ],
   "source": [
    "n = 10\n",
    "for j in range(n):\n",
    "    print(j* \"*\")\n",
    "for i in range(n-2, 0, -1):\n",
    "    print(i* \"*\")\n",
    "    \n",
    "\n",
    "    \n",
    "    \n",
    "        "
   ]
  },
  {
   "cell_type": "code",
   "execution_count": 96,
   "id": "65c50d01",
   "metadata": {},
   "outputs": [
    {
     "ename": "KeyboardInterrupt",
     "evalue": "Interrupted by user",
     "output_type": "error",
     "traceback": [
      "\u001b[0;31m---------------------------------------------------------------------------\u001b[0m",
      "\u001b[0;31mKeyboardInterrupt\u001b[0m                         Traceback (most recent call last)",
      "\u001b[0;32m<ipython-input-96-6ee6341d1535>\u001b[0m in \u001b[0;36m<module>\u001b[0;34m\u001b[0m\n\u001b[0;32m----> 1\u001b[0;31m \u001b[0mt\u001b[0m \u001b[0;34m=\u001b[0m \u001b[0minput\u001b[0m\u001b[0;34m(\u001b[0m\u001b[0;34m)\u001b[0m\u001b[0;34m\u001b[0m\u001b[0;34m\u001b[0m\u001b[0m\n\u001b[0m",
      "\u001b[0;32m~/opt/anaconda3/lib/python3.8/site-packages/ipykernel/kernelbase.py\u001b[0m in \u001b[0;36mraw_input\u001b[0;34m(self, prompt)\u001b[0m\n\u001b[1;32m    858\u001b[0m                 \u001b[0;34m\"raw_input was called, but this frontend does not support input requests.\"\u001b[0m\u001b[0;34m\u001b[0m\u001b[0;34m\u001b[0m\u001b[0m\n\u001b[1;32m    859\u001b[0m             )\n\u001b[0;32m--> 860\u001b[0;31m         return self._input_request(str(prompt),\n\u001b[0m\u001b[1;32m    861\u001b[0m             \u001b[0mself\u001b[0m\u001b[0;34m.\u001b[0m\u001b[0m_parent_ident\u001b[0m\u001b[0;34m,\u001b[0m\u001b[0;34m\u001b[0m\u001b[0;34m\u001b[0m\u001b[0m\n\u001b[1;32m    862\u001b[0m             \u001b[0mself\u001b[0m\u001b[0;34m.\u001b[0m\u001b[0m_parent_header\u001b[0m\u001b[0;34m,\u001b[0m\u001b[0;34m\u001b[0m\u001b[0;34m\u001b[0m\u001b[0m\n",
      "\u001b[0;32m~/opt/anaconda3/lib/python3.8/site-packages/ipykernel/kernelbase.py\u001b[0m in \u001b[0;36m_input_request\u001b[0;34m(self, prompt, ident, parent, password)\u001b[0m\n\u001b[1;32m    902\u001b[0m             \u001b[0;32mexcept\u001b[0m \u001b[0mKeyboardInterrupt\u001b[0m\u001b[0;34m:\u001b[0m\u001b[0;34m\u001b[0m\u001b[0;34m\u001b[0m\u001b[0m\n\u001b[1;32m    903\u001b[0m                 \u001b[0;31m# re-raise KeyboardInterrupt, to truncate traceback\u001b[0m\u001b[0;34m\u001b[0m\u001b[0;34m\u001b[0m\u001b[0;34m\u001b[0m\u001b[0m\n\u001b[0;32m--> 904\u001b[0;31m                 \u001b[0;32mraise\u001b[0m \u001b[0mKeyboardInterrupt\u001b[0m\u001b[0;34m(\u001b[0m\u001b[0;34m\"Interrupted by user\"\u001b[0m\u001b[0;34m)\u001b[0m \u001b[0;32mfrom\u001b[0m \u001b[0;32mNone\u001b[0m\u001b[0;34m\u001b[0m\u001b[0;34m\u001b[0m\u001b[0m\n\u001b[0m\u001b[1;32m    905\u001b[0m             \u001b[0;32mexcept\u001b[0m \u001b[0mException\u001b[0m \u001b[0;32mas\u001b[0m \u001b[0me\u001b[0m\u001b[0;34m:\u001b[0m\u001b[0;34m\u001b[0m\u001b[0;34m\u001b[0m\u001b[0m\n\u001b[1;32m    906\u001b[0m                 \u001b[0mself\u001b[0m\u001b[0;34m.\u001b[0m\u001b[0mlog\u001b[0m\u001b[0;34m.\u001b[0m\u001b[0mwarning\u001b[0m\u001b[0;34m(\u001b[0m\u001b[0;34m\"Invalid Message:\"\u001b[0m\u001b[0;34m,\u001b[0m \u001b[0mexc_info\u001b[0m\u001b[0;34m=\u001b[0m\u001b[0;32mTrue\u001b[0m\u001b[0;34m)\u001b[0m\u001b[0;34m\u001b[0m\u001b[0;34m\u001b[0m\u001b[0m\n",
      "\u001b[0;31mKeyboardInterrupt\u001b[0m: Interrupted by user"
     ]
    }
   ],
   "source": [
    "t = input()"
   ]
  },
  {
   "cell_type": "code",
   "execution_count": 93,
   "id": "e991a637",
   "metadata": {},
   "outputs": [],
   "source": [
    "#show input to user asking for password. repeat that untill he enters correct passowtd. once correct print message saying yourin "
   ]
  },
  {
   "cell_type": "code",
   "execution_count": 116,
   "id": "1c723343",
   "metadata": {},
   "outputs": [
    {
     "name": "stdout",
     "output_type": "stream",
     "text": [
      "Enter Password here\n",
      "d\n",
      "Try again please\n",
      "d\n"
     ]
    }
   ],
   "source": [
    "password = \"sergio\"\n",
    "print(\"Enter Password here\") \n",
    "p = input()\n",
    "if p == password:\n",
    "    print(\"Welcome to the dark side\")\n",
    "elif p!= password:\n",
    "    print(\"Try again please\")\n",
    "p = input()\n",
    "\n"
   ]
  },
  {
   "cell_type": "code",
   "execution_count": null,
   "id": "6a631634",
   "metadata": {},
   "outputs": [],
   "source": [
    "password = \"sergio\"\n",
    "print(\"Enter Password here\") \n",
    "p = input()\n",
    "if p == password:\n",
    "    print(\"Welcome to the dark side\")\n",
    "elif p!= password:\n",
    "    print(\"Try again please\")\n",
    "p = input()"
   ]
  },
  {
   "cell_type": "code",
   "execution_count": 133,
   "id": "412efedc",
   "metadata": {},
   "outputs": [
    {
     "name": "stdout",
     "output_type": "stream",
     "text": [
      "sergio\n",
      "YAY! Your in\n"
     ]
    }
   ],
   "source": [
    "password = \"sergio\"\n",
    "count = 0\n",
    "p = input()\n",
    "while p == password and count<= 4:\n",
    "    print(\"YAY! Your in\")\n",
    "    break\n",
    "    if p != password and count<= 4:\n",
    "        print(\"try again\") \n",
    "        p = input()\n",
    "        break\n",
    "  \n"
   ]
  },
  {
   "cell_type": "code",
   "execution_count": 137,
   "id": "0a08025d",
   "metadata": {},
   "outputs": [
    {
     "name": "stdout",
     "output_type": "stream",
     "text": [
      "Enter password:serg\n",
      "Enter password:python\n"
     ]
    }
   ],
   "source": [
    "password = \" \"\n",
    "my_password = \"python\"\n",
    "repeats = 0\n",
    "while password != my_password:\n",
    "    password = input (\"Enter password:\" )\n",
    "    repeats += 1\n",
    "    if repeats >=3:\n",
    "        print(\"wrong password\")\n",
    "        break"
   ]
  },
  {
   "cell_type": "code",
   "execution_count": null,
   "id": "f3d22018",
   "metadata": {},
   "outputs": [],
   "source": []
  }
 ],
 "metadata": {
  "kernelspec": {
   "display_name": "Python 3",
   "language": "python",
   "name": "python3"
  },
  "language_info": {
   "codemirror_mode": {
    "name": "ipython",
    "version": 3
   },
   "file_extension": ".py",
   "mimetype": "text/x-python",
   "name": "python",
   "nbconvert_exporter": "python",
   "pygments_lexer": "ipython3",
   "version": "3.8.8"
  }
 },
 "nbformat": 4,
 "nbformat_minor": 5
}
